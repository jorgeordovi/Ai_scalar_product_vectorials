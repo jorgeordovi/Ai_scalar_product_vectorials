{
 "cells": [
  {
   "cell_type": "code",
   "execution_count": 1,
   "metadata": {},
   "outputs": [],
   "source": [
    "import numpy as np\n",
    "import matplotlib.pyplot as plt\n",
    "import mpl_toolkits.mplot3d as Axes3D"
   ]
  },
  {
   "cell_type": "code",
   "execution_count": null,
   "metadata": {},
   "outputs": [],
   "source": [
    "v1=np.array([3,4,5])\n",
    "v2=np.array([1,2,3])\n",
    "\n",
    "producto_escalar=np.dot(v1,v2)\n",
    "\n",
    "producto_vectorial=np.cross(v1,v2)\n",
    "\n",
    "norm_v1=np.linalg.norm(v1)\n",
    "norm_v2=np.linalg.norm(v2)\n",
    "\n",
    "cos_angulo=producto_escalar / (norm_v1*norm_v2)\n",
    "angulo=np.arccos(np.clip(cos_angulo,-1,0,1,0))\n",
    "\n",
    "angulo_grados=np.degrees(angulo)\n",
    "\n",
    "print(producto_escalar,producto_vectorial,angulo_grados)"
   ]
  },
  {
   "cell_type": "code",
   "execution_count": null,
   "metadata": {},
   "outputs": [],
   "source": []
  }
 ],
 "metadata": {
  "kernelspec": {
   "display_name": "Python 3 (ipykernel)",
   "language": "python",
   "name": "python3"
  },
  "language_info": {
   "codemirror_mode": {
    "name": "ipython",
    "version": 3
   },
   "file_extension": ".py",
   "mimetype": "text/x-python",
   "name": "python",
   "nbconvert_exporter": "python",
   "pygments_lexer": "ipython3",
   "version": "3.10.9"
  }
 },
 "nbformat": 4,
 "nbformat_minor": 2
}
